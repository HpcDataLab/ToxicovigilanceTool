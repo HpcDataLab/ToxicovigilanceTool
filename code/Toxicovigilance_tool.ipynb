{
  "cells": [
    {
      "cell_type": "markdown",
      "metadata": {
        "id": "Su7cdooF5phN"
      },
      "source": [
        "# Using honeybee flight activity data as a toxicovigilance tool\n",
        "\n",
        "### **Authors:** \n",
        "* Ulises Olivares Pinto<sup>1</sup>, uoliavares@unam.mx\n",
        "* Alberto Prado Farías<sup>1</sup>, aprado@unam.mx\n",
        "\n",
        "##### <sup>1</sup> Escuela Nacional de Estudios Superiores Unidad Juriquilla\n",
        "\n"
      ]
    },
    {
      "cell_type": "markdown",
      "metadata": {
        "id": "nds9tbgZau95"
      },
      "source": [
        "### 1. Import libraries. "
      ]
    },
    {
      "cell_type": "code",
      "execution_count": 3,
      "metadata": {
        "id": "yFpnsb485phV"
      },
      "outputs": [],
      "source": [
        "import numpy as np\n",
        "import matplotlib.pyplot as plt\n",
        "import pandas as pd\n",
        "from sklearn.metrics import accuracy_score\n",
        "from tensorflow.keras.models import Sequential\n",
        "from tensorflow.keras.layers import Dense, Dropout\n",
        "from keras.layers import Dense, LSTM, BatchNormalization\n",
        "import tensorflow as tf\n",
        "from sklearn.model_selection import train_test_split\n",
        "import os\n",
        "from keras.layers import Input\n",
        "from tensorflow.keras import layers\n",
        "from keras.layers import Flatten\n",
        "from keras.regularizers import l2\n",
        "from tensorflow.keras.layers import Bidirectional\n",
        "from keras.layers import Concatenate\n",
        "from tensorflow.keras import Model"
      ]
    },
    {
      "cell_type": "code",
      "source": [
        "#!nvidia-smi"
      ],
      "metadata": {
        "id": "28GHOs0nXLFM"
      },
      "execution_count": 4,
      "outputs": []
    },
    {
      "cell_type": "markdown",
      "metadata": {
        "id": "OGDD7bWPa65P"
      },
      "source": [
        "### 2. Import data from Github repository: \n",
        "\n",
        "GitHub Repository: https://github.com/HpcDataLab/ToxicovigilanceTool"
      ]
    },
    {
      "cell_type": "code",
      "execution_count": 5,
      "metadata": {
        "id": "5gbPqFfu5phY",
        "colab": {
          "base_uri": "https://localhost:8080/",
          "height": 206
        },
        "outputId": "e7ff2d34-f37b-4860-bf9f-60a732cb8041"
      },
      "outputs": [
        {
          "output_type": "execute_result",
          "data": {
            "text/plain": [
              "   Unnamed: 0      ID  Age  flights   duration   max  Treatment colonie  \\\n",
              "0  K 4150.701  K 4150  6.0      1.0   3.616667   7.0  pesticide       K   \n",
              "1  K 4150.702  K 4150  7.0      4.0  91.350000   7.0  pesticide       K   \n",
              "2  K 4152.736  K 4152  6.0      0.0   0.000000  13.0  pesticide       K   \n",
              "3  K 4152.737  K 4152  7.0      0.0   0.000000  13.0  pesticide       K   \n",
              "4  K 4152.738  K 4152  8.0      3.0   4.800000  13.0  pesticide       K   \n",
              "\n",
              "         Date  \n",
              "0  2016-04-13  \n",
              "1  2016-04-13  \n",
              "2  2016-04-19  \n",
              "3  2016-04-19  \n",
              "4  2016-04-19  "
            ],
            "text/html": [
              "\n",
              "  <div id=\"df-bcfdabf8-5139-4852-8624-3ef1e4ab84a3\">\n",
              "    <div class=\"colab-df-container\">\n",
              "      <div>\n",
              "<style scoped>\n",
              "    .dataframe tbody tr th:only-of-type {\n",
              "        vertical-align: middle;\n",
              "    }\n",
              "\n",
              "    .dataframe tbody tr th {\n",
              "        vertical-align: top;\n",
              "    }\n",
              "\n",
              "    .dataframe thead th {\n",
              "        text-align: right;\n",
              "    }\n",
              "</style>\n",
              "<table border=\"1\" class=\"dataframe\">\n",
              "  <thead>\n",
              "    <tr style=\"text-align: right;\">\n",
              "      <th></th>\n",
              "      <th>Unnamed: 0</th>\n",
              "      <th>ID</th>\n",
              "      <th>Age</th>\n",
              "      <th>flights</th>\n",
              "      <th>duration</th>\n",
              "      <th>max</th>\n",
              "      <th>Treatment</th>\n",
              "      <th>colonie</th>\n",
              "      <th>Date</th>\n",
              "    </tr>\n",
              "  </thead>\n",
              "  <tbody>\n",
              "    <tr>\n",
              "      <th>0</th>\n",
              "      <td>K 4150.701</td>\n",
              "      <td>K 4150</td>\n",
              "      <td>6.0</td>\n",
              "      <td>1.0</td>\n",
              "      <td>3.616667</td>\n",
              "      <td>7.0</td>\n",
              "      <td>pesticide</td>\n",
              "      <td>K</td>\n",
              "      <td>2016-04-13</td>\n",
              "    </tr>\n",
              "    <tr>\n",
              "      <th>1</th>\n",
              "      <td>K 4150.702</td>\n",
              "      <td>K 4150</td>\n",
              "      <td>7.0</td>\n",
              "      <td>4.0</td>\n",
              "      <td>91.350000</td>\n",
              "      <td>7.0</td>\n",
              "      <td>pesticide</td>\n",
              "      <td>K</td>\n",
              "      <td>2016-04-13</td>\n",
              "    </tr>\n",
              "    <tr>\n",
              "      <th>2</th>\n",
              "      <td>K 4152.736</td>\n",
              "      <td>K 4152</td>\n",
              "      <td>6.0</td>\n",
              "      <td>0.0</td>\n",
              "      <td>0.000000</td>\n",
              "      <td>13.0</td>\n",
              "      <td>pesticide</td>\n",
              "      <td>K</td>\n",
              "      <td>2016-04-19</td>\n",
              "    </tr>\n",
              "    <tr>\n",
              "      <th>3</th>\n",
              "      <td>K 4152.737</td>\n",
              "      <td>K 4152</td>\n",
              "      <td>7.0</td>\n",
              "      <td>0.0</td>\n",
              "      <td>0.000000</td>\n",
              "      <td>13.0</td>\n",
              "      <td>pesticide</td>\n",
              "      <td>K</td>\n",
              "      <td>2016-04-19</td>\n",
              "    </tr>\n",
              "    <tr>\n",
              "      <th>4</th>\n",
              "      <td>K 4152.738</td>\n",
              "      <td>K 4152</td>\n",
              "      <td>8.0</td>\n",
              "      <td>3.0</td>\n",
              "      <td>4.800000</td>\n",
              "      <td>13.0</td>\n",
              "      <td>pesticide</td>\n",
              "      <td>K</td>\n",
              "      <td>2016-04-19</td>\n",
              "    </tr>\n",
              "  </tbody>\n",
              "</table>\n",
              "</div>\n",
              "      <button class=\"colab-df-convert\" onclick=\"convertToInteractive('df-bcfdabf8-5139-4852-8624-3ef1e4ab84a3')\"\n",
              "              title=\"Convert this dataframe to an interactive table.\"\n",
              "              style=\"display:none;\">\n",
              "        \n",
              "  <svg xmlns=\"http://www.w3.org/2000/svg\" height=\"24px\"viewBox=\"0 0 24 24\"\n",
              "       width=\"24px\">\n",
              "    <path d=\"M0 0h24v24H0V0z\" fill=\"none\"/>\n",
              "    <path d=\"M18.56 5.44l.94 2.06.94-2.06 2.06-.94-2.06-.94-.94-2.06-.94 2.06-2.06.94zm-11 1L8.5 8.5l.94-2.06 2.06-.94-2.06-.94L8.5 2.5l-.94 2.06-2.06.94zm10 10l.94 2.06.94-2.06 2.06-.94-2.06-.94-.94-2.06-.94 2.06-2.06.94z\"/><path d=\"M17.41 7.96l-1.37-1.37c-.4-.4-.92-.59-1.43-.59-.52 0-1.04.2-1.43.59L10.3 9.45l-7.72 7.72c-.78.78-.78 2.05 0 2.83L4 21.41c.39.39.9.59 1.41.59.51 0 1.02-.2 1.41-.59l7.78-7.78 2.81-2.81c.8-.78.8-2.07 0-2.86zM5.41 20L4 18.59l7.72-7.72 1.47 1.35L5.41 20z\"/>\n",
              "  </svg>\n",
              "      </button>\n",
              "      \n",
              "  <style>\n",
              "    .colab-df-container {\n",
              "      display:flex;\n",
              "      flex-wrap:wrap;\n",
              "      gap: 12px;\n",
              "    }\n",
              "\n",
              "    .colab-df-convert {\n",
              "      background-color: #E8F0FE;\n",
              "      border: none;\n",
              "      border-radius: 50%;\n",
              "      cursor: pointer;\n",
              "      display: none;\n",
              "      fill: #1967D2;\n",
              "      height: 32px;\n",
              "      padding: 0 0 0 0;\n",
              "      width: 32px;\n",
              "    }\n",
              "\n",
              "    .colab-df-convert:hover {\n",
              "      background-color: #E2EBFA;\n",
              "      box-shadow: 0px 1px 2px rgba(60, 64, 67, 0.3), 0px 1px 3px 1px rgba(60, 64, 67, 0.15);\n",
              "      fill: #174EA6;\n",
              "    }\n",
              "\n",
              "    [theme=dark] .colab-df-convert {\n",
              "      background-color: #3B4455;\n",
              "      fill: #D2E3FC;\n",
              "    }\n",
              "\n",
              "    [theme=dark] .colab-df-convert:hover {\n",
              "      background-color: #434B5C;\n",
              "      box-shadow: 0px 1px 3px 1px rgba(0, 0, 0, 0.15);\n",
              "      filter: drop-shadow(0px 1px 2px rgba(0, 0, 0, 0.3));\n",
              "      fill: #FFFFFF;\n",
              "    }\n",
              "  </style>\n",
              "\n",
              "      <script>\n",
              "        const buttonEl =\n",
              "          document.querySelector('#df-bcfdabf8-5139-4852-8624-3ef1e4ab84a3 button.colab-df-convert');\n",
              "        buttonEl.style.display =\n",
              "          google.colab.kernel.accessAllowed ? 'block' : 'none';\n",
              "\n",
              "        async function convertToInteractive(key) {\n",
              "          const element = document.querySelector('#df-bcfdabf8-5139-4852-8624-3ef1e4ab84a3');\n",
              "          const dataTable =\n",
              "            await google.colab.kernel.invokeFunction('convertToInteractive',\n",
              "                                                     [key], {});\n",
              "          if (!dataTable) return;\n",
              "\n",
              "          const docLinkHtml = 'Like what you see? Visit the ' +\n",
              "            '<a target=\"_blank\" href=https://colab.research.google.com/notebooks/data_table.ipynb>data table notebook</a>'\n",
              "            + ' to learn more about interactive tables.';\n",
              "          element.innerHTML = '';\n",
              "          dataTable['output_type'] = 'display_data';\n",
              "          await google.colab.output.renderOutput(dataTable, element);\n",
              "          const docLink = document.createElement('div');\n",
              "          docLink.innerHTML = docLinkHtml;\n",
              "          element.appendChild(docLink);\n",
              "        }\n",
              "      </script>\n",
              "    </div>\n",
              "  </div>\n",
              "  "
            ]
          },
          "metadata": {},
          "execution_count": 5
        }
      ],
      "source": [
        "# Import data from different Datasets\n",
        "prado = pd.read_csv(\"https://raw.githubusercontent.com/HpcDataLab/ToxicovigilanceTool/main/data/Daily_flight_activity_Prado.csv\")\n",
        "\n",
        "berascou = pd.read_csv(\"https://raw.githubusercontent.com/HpcDataLab/ToxicovigilanceTool/main/data/Daily_flight_activity_Berascou.csv\")\n",
        "\n",
        "colin = pd.read_csv(\"https://raw.githubusercontent.com/HpcDataLab/ToxicovigilanceTool/main/data/Daily_flight_activity_Colin.csv\", sep=\";\")\n",
        "\n",
        "coulon = pd.read_csv(\"https://raw.githubusercontent.com/HpcDataLab/ToxicovigilanceTool/main/data/Daily_flight_activity_Coulon.csv\")\n",
        "\n",
        "frames = [prado, berascou]\n",
        "  \n",
        "prado = pd.concat(frames)\n",
        "\n",
        "frames = [prado, colin]\n",
        "\n",
        "prado = pd.concat(frames)\n",
        "\n",
        "#prado = prado.loc[prado['Treatment'] == \"control\"]\n",
        "\n",
        "prado.head()"
      ]
    },
    {
      "cell_type": "code",
      "source": [
        "prado.head()\n",
        "\n",
        "len(prado)\n",
        "\n",
        "#prado = prado.dropna()\n",
        "\n",
        "#print(prado)\n",
        "\n",
        "print(\"Number of registers:\",len(prado))"
      ],
      "metadata": {
        "id": "kO4NILHANW8a",
        "colab": {
          "base_uri": "https://localhost:8080/"
        },
        "outputId": "8ee8d10e-4a59-461b-e68a-b140dfcf79d2"
      },
      "execution_count": 6,
      "outputs": [
        {
          "output_type": "stream",
          "name": "stdout",
          "text": [
            "Number of registers: 34430\n"
          ]
        }
      ]
    },
    {
      "cell_type": "code",
      "source": [
        "# remove Treatment variabel\n",
        "\n",
        "# Extract labels from DF \n",
        "labels = prado.Treatment\n",
        "\n",
        "# Remove labels from dataframe\n",
        "#prado = prado.drop(\"Treatment\", axis =1)\n",
        "#prado.head()\n",
        "#labels.head()\n"
      ],
      "metadata": {
        "id": "nd34h4nHNctp"
      },
      "execution_count": 7,
      "outputs": []
    },
    {
      "cell_type": "markdown",
      "metadata": {
        "id": "l_IfFRb2bJl5"
      },
      "source": [
        "### 3. Split data into two sets, train and test datasets. \n",
        " "
      ]
    },
    {
      "cell_type": "code",
      "source": [
        "%matplotlib inline\n",
        "# Extract unique bees\n",
        "print(\"Unique bees: \", len(prado.ID.unique()))\n",
        "\n",
        "# Subdivide data 70% training 30% test\n",
        "X_train, X_test, y_train, y_test = train_test_split(prado, prado.Treatment, test_size=0.25, random_state=1234) # TODO: Subdivide sets using individual bees instead of general registers. \n",
        "\n",
        "#print(\"Number of registers:\", prado.shape)\n",
        "\n",
        "# Training data\n",
        "print(\"Shape of data for training:\",X_train.shape)\n",
        "\n",
        "# Testing data\n",
        "print(\"Shape of data for testing:\",X_test.shape)\n",
        "\n",
        "#print(\"Training data\", X_train)\n",
        "\n",
        "print(\"Unique bees: \", len(X_train.ID.unique()))\n",
        "\n",
        "# Separate control bees\n",
        "control = prado[prado.Treatment == \"control\"]\n",
        "\n",
        "# Separate pesticide bees\n",
        "pesticide = prado[prado.Treatment == \"pesticide\"]\n",
        "\n",
        "\"\"\"x = [\"control\", \"pesticide\"]\n",
        "y = [len(control), len(pesticide)]\n",
        "\n",
        "\n",
        "plt.bar(x, y, color = \"red\", width = 0.5)\"\"\"\n",
        "\n",
        "\n",
        "\"\"\"print(\"Number of control registers: \", len(control))\n",
        "print(\"Unique control bees\",len(control.ID.unique()))\n",
        "\n",
        "print(\"Number of pesticide registers: \", len(pesticide))\n",
        "print(\"Unique pesticide bees\",len(pesticide.ID.unique()))\n",
        "\n",
        "# Subdivide data 70% training 30% test Control\n",
        "C_X_train, C_X_test, C_y_train, C_y_test = train_test_split(control, control.Treatment, test_size=0.3)\n",
        "\n",
        "P_X_train, P_X_test, P_y_train, P_y_test = train_test_split(pesticide, pesticide.Treatment, test_size=0.3)\n",
        "\n",
        "print(\"Total training control registers: \",len(C_X_train))\n",
        "print(\"Total training pesticide registers: \", len(P_X_train))\n",
        "\n",
        "# merge testing and training datasets\n",
        "X_train = pd.merge(C_X_train, P_X_train, how=\"outer\")\n",
        "X_test =  pd.merge(C_X_test, P_X_test, how=\"outer\")\n",
        "\n",
        "y_train = pd.merge(C_y_train, P_y_train, how=\"outer\")\n",
        "y_test =  pd.merge(C_y_test, P_y_test, how=\"outer\")\n",
        "\n",
        "\n",
        "\n",
        "print(\"Total train Regs.\", len(X_train))\n",
        "print(\"Total test Regs.\", len(X_test))\"\"\"\n",
        "\n",
        "#print(X_train)\n",
        "\n",
        "# Preprocessing data convert to numpy array and change type\n",
        "X_train_dur = X_train.duration.to_numpy()\n",
        "X_test_dur = X_test.duration.to_numpy()\n",
        "\n",
        "\"\"\"\n",
        "Change labels instead of using str use int \n",
        "TODO: This can be replaced using pd.get_dummies.\n",
        "    0: => Control\n",
        "    1: => Pesticide\n",
        "\"\"\"\n",
        "\n",
        "#y_train = y_train.replace({\"control\": 0, \"pesticide\": 1})\n",
        "#y_test = y_test.replace({\"control\": 0, \"pesticide\": 1})\n",
        "\n",
        "#Ytrain = y_train.to_numpy()\n",
        "#Ytest = y_test.to_numpy()\n",
        "\n",
        "\n",
        "#print(y_train)\n",
        "\n",
        "\n",
        "\n",
        "print(f\"Shape of Ytest, {pd.get_dummies(y_test).shape}\")\n",
        "\n",
        "Ytrain = pd.get_dummies(y_train).values\n",
        "Ytest = pd.get_dummies(y_test).values\n",
        "\n",
        "#print(\"DF before drop columns\", X_train.shape)\n",
        "\n",
        "# Use only one variable\n",
        "#Xtrain = X_train[[\"duration\"]].values.astype('float')\n",
        "#Xtest = X_test[[\"duration\"]].values.astype('float')\n",
        "\n",
        "# original\n",
        "Xtrain = X_train[[\"Age\", \"flights\" , \"duration\"]].values.astype('float')\n",
        "Xtest = X_test[[\"Age\", \"flights\" , \"duration\"]].values.astype('float')\n",
        "\n",
        "print(\"Train DF After drop columns\",Xtrain.shape)\n",
        "print(\"Test DF After drop columns\",Xtest.shape)\n",
        "\n",
        "#print(Xtrain)\n",
        "print(Ytrain)\n",
        "print(Ytrain.shape)"
      ],
      "metadata": {
        "id": "iN4DNCmYiIYg",
        "colab": {
          "base_uri": "https://localhost:8080/"
        },
        "outputId": "8ebe81ba-37b4-465a-9025-d7e4a04606d1"
      },
      "execution_count": 8,
      "outputs": [
        {
          "output_type": "stream",
          "name": "stdout",
          "text": [
            "Unique bees:  2359\n",
            "Shape of data for training: (25822, 9)\n",
            "Shape of data for testing: (8608, 9)\n",
            "Unique bees:  2350\n",
            "Shape of Ytest, (8608, 2)\n",
            "Train DF After drop columns (25822, 3)\n",
            "Test DF After drop columns (8608, 3)\n",
            "[[1 0]\n",
            " [0 1]\n",
            " [0 1]\n",
            " ...\n",
            " [0 1]\n",
            " [0 0]\n",
            " [1 0]]\n",
            "(25822, 2)\n"
          ]
        }
      ]
    },
    {
      "cell_type": "markdown",
      "source": [
        "### 4. Change structure of datases for training proposes."
      ],
      "metadata": {
        "id": "hlNBYCl7thkC"
      }
    },
    {
      "cell_type": "code",
      "execution_count": 9,
      "metadata": {
        "id": "O04jVjFi5phi",
        "colab": {
          "base_uri": "https://localhost:8080/"
        },
        "outputId": "f9e9818d-050c-42fc-c299-c6f6699334f0"
      },
      "outputs": [
        {
          "output_type": "stream",
          "name": "stdout",
          "text": [
            "\\Shape of training data is \n",
            "\tRows: 25822\n",
            "\tColumns: 9\n",
            "\tShape of  data (25822, 2)\n"
          ]
        }
      ],
      "source": [
        "# Batch size\n",
        "batchZize = 32\n",
        "\n",
        "# Add additional dimmension\n",
        "Xtrain = np.reshape(Xtrain, (Xtrain.shape[0], Xtrain.shape[1]))\n",
        "#Ytrain = np.reshape(Ytrain, (Ytrain.shape[0], Ytrain.shape[1], 1))\n",
        "\n",
        "#np.reshape(Ytrain, (Ytrain.shape[0]),1)\n",
        "\n",
        "Xtest = np.reshape(Xtest, (Xtest.shape[0], Xtest.shape[1]))\n",
        "#Ytest = np.reshape(Ytest, (Ytest.shape[0], Ytest.shape[1], 1))\n",
        "\n",
        "print(\"\\Shape of training data is \")\n",
        "print(f\"\\tRows: {X_train.shape[0]}\")\n",
        "print(f\"\\tColumns: {X_train.shape[1]}\")\n",
        "#print(f\"\\tAdditional dimension: {Xtrain.shape[2]}\")\n",
        "#print(f\"\\tShape of train data {Xtrain.shape}\")\n",
        "#print(f\"\\tShape of test data {Xtest.shape}\")\n",
        "print(f\"\\tShape of  data {Ytrain.shape}\")\n"
      ]
    },
    {
      "cell_type": "markdown",
      "metadata": {
        "id": "sXvrR1XLeRv_"
      },
      "source": [
        "### 5. Define a RNN model and compile the RNN."
      ]
    },
    {
      "cell_type": "code",
      "execution_count": 10,
      "metadata": {
        "id": "OUm-j8wF5phl"
      },
      "outputs": [],
      "source": [
        "def createModel(X_train, Y_train, dropout = 0.2, metrics = ['accuracy', 'AUC']):\n",
        "  # Build the Model\n",
        "  # Define timesteps and the number of features\n",
        "\n",
        "    n_timesteps = 3\n",
        "\n",
        "    n_features = 1\n",
        "\n",
        "    # RNN + SLP Model\n",
        "\n",
        "    model = Sequential()\n",
        "\n",
        "    # Define input layer\n",
        "\n",
        "    model.add(Input(shape=(n_timesteps,n_features)))\n",
        "    \n",
        "    # RNN Layers\n",
        "\n",
        "    # layer - 1\n",
        "\n",
        "    model.add(Bidirectional(LSTM(128, kernel_regularizer=l2(0.01), recurrent_regularizer=l2(0.01),return_sequences=True)))\n",
        "\n",
        "    model.add(Dropout(0.1 ))\n",
        "\n",
        "    # layer - 2\n",
        "\n",
        "    rec_layer_two = Bidirectional(LSTM(64, kernel_regularizer=l2(0.01), recurrent_regularizer=l2(0.01)) )\n",
        "\n",
        "    rec_layer_two = model.add(Dropout(0.1))\n",
        "\n",
        "    # SLP Layers\n",
        "\n",
        "    static_layer_one = Dense(64, kernel_regularizer=l2(0.001), activation='relu')\n",
        "\n",
        "    # Combine layers - RNN + SLP\n",
        "\n",
        "    model.add(Concatenate(axis= 1 )([rec_layer_two,static_layer_one]))\n",
        "\n",
        "    model.add(Dense(64, activation='relu'))\n",
        "\n",
        "    model.add(Dense(2,activation='sigmoid'))\n",
        "\n",
        "\n",
        "    # binary cross entropy loss\n",
        "    model.compile(loss='binary_crossentropy', optimizer='adam', metrics=['accuracy'])\n",
        "\n",
        "\n",
        "    #model.compile(loss=focal_loss_custom(alpha=0.2, gamma=2.0), optimizer='adam', metrics=['accuracy',f1_m,precision_m, recall_m])\n",
        "\n",
        "    model.summary()\n",
        "\n",
        "    return model"
      ]
    },
    {
      "cell_type": "markdown",
      "metadata": {
        "id": "Ar618M5xf_S-"
      },
      "source": [
        "### 6. Train model and get performance metrics.\n",
        "\n",
        "TODO: Implement cross validation"
      ]
    },
    {
      "cell_type": "code",
      "source": [
        "## Reserve a GPU\n",
        "os.environ[\"CUDA_VISIBLE_DEVICES\"]=\"0\""
      ],
      "metadata": {
        "id": "3kqRkcgV1o3O"
      },
      "execution_count": 11,
      "outputs": []
    },
    {
      "cell_type": "code",
      "source": [
        "# Retraining model for 10 epochs\n",
        "\n",
        "epochs = 10\n",
        "entrenamiento = 0\n",
        "\n",
        "#for i in range(1, max_iter):\n",
        "model = createModel(X_train = Xtrain, Y_train = Ytrain, dropout = 0.2)\n",
        "\n",
        "# Just focus on training data \n",
        "history = model.fit(Xtrain, Ytrain, batch_size = 512, epochs = epochs, use_multiprocessing=True)\n",
        "\n",
        "# Training and validationd data\n",
        "#model.fit(Xtrain, Ytrain, batch_size = 128, epochs = ep, use_multiprocessing=True, validation_data=(Xtest, Ytest))\n",
        "\n",
        "#model.evaluate(Xtest,Ytest, batch_size=64, verbose = 1)\n",
        "\n",
        "#print(model.metrics)\n",
        "  #print(f\"En el intento {i}, la precisión del modelo respecto a los datos de prueba fue: {np.round(precision[1]*100,5)} %, y la pérdida fue de {np.round(precision[0],5)}\")\n"
      ],
      "metadata": {
        "id": "JGaMWhzwkywR",
        "colab": {
          "base_uri": "https://localhost:8080/",
          "height": 381
        },
        "outputId": "d077f125-fff4-490b-d38a-4e249d4eba95"
      },
      "execution_count": 12,
      "outputs": [
        {
          "output_type": "error",
          "ename": "TypeError",
          "evalue": "ignored",
          "traceback": [
            "\u001b[0;31m---------------------------------------------------------------------------\u001b[0m",
            "\u001b[0;31mTypeError\u001b[0m                                 Traceback (most recent call last)",
            "\u001b[0;32m<ipython-input-12-9ae610de8eaf>\u001b[0m in \u001b[0;36m<module>\u001b[0;34m\u001b[0m\n\u001b[1;32m      5\u001b[0m \u001b[0;34m\u001b[0m\u001b[0m\n\u001b[1;32m      6\u001b[0m \u001b[0;31m#for i in range(1, max_iter):\u001b[0m\u001b[0;34m\u001b[0m\u001b[0;34m\u001b[0m\u001b[0;34m\u001b[0m\u001b[0m\n\u001b[0;32m----> 7\u001b[0;31m \u001b[0mmodel\u001b[0m \u001b[0;34m=\u001b[0m \u001b[0mcreateModel\u001b[0m\u001b[0;34m(\u001b[0m\u001b[0mX_train\u001b[0m \u001b[0;34m=\u001b[0m \u001b[0mXtrain\u001b[0m\u001b[0;34m,\u001b[0m \u001b[0mY_train\u001b[0m \u001b[0;34m=\u001b[0m \u001b[0mYtrain\u001b[0m\u001b[0;34m,\u001b[0m \u001b[0mdropout\u001b[0m \u001b[0;34m=\u001b[0m \u001b[0;36m0.2\u001b[0m\u001b[0;34m)\u001b[0m\u001b[0;34m\u001b[0m\u001b[0;34m\u001b[0m\u001b[0m\n\u001b[0m\u001b[1;32m      8\u001b[0m \u001b[0;34m\u001b[0m\u001b[0m\n\u001b[1;32m      9\u001b[0m \u001b[0;31m# Just focus on training data\u001b[0m\u001b[0;34m\u001b[0m\u001b[0;34m\u001b[0m\u001b[0;34m\u001b[0m\u001b[0m\n",
            "\u001b[0;32m<ipython-input-10-fd16236cf349>\u001b[0m in \u001b[0;36mcreateModel\u001b[0;34m(X_train, Y_train, dropout, metrics)\u001b[0m\n\u001b[1;32m     35\u001b[0m     \u001b[0;31m# Combine layers - RNN + SLP\u001b[0m\u001b[0;34m\u001b[0m\u001b[0;34m\u001b[0m\u001b[0;34m\u001b[0m\u001b[0m\n\u001b[1;32m     36\u001b[0m \u001b[0;34m\u001b[0m\u001b[0m\n\u001b[0;32m---> 37\u001b[0;31m     \u001b[0mmodel\u001b[0m\u001b[0;34m.\u001b[0m\u001b[0madd\u001b[0m\u001b[0;34m(\u001b[0m\u001b[0mConcatenate\u001b[0m\u001b[0;34m(\u001b[0m\u001b[0maxis\u001b[0m\u001b[0;34m=\u001b[0m \u001b[0;36m1\u001b[0m \u001b[0;34m)\u001b[0m\u001b[0;34m(\u001b[0m\u001b[0;34m[\u001b[0m\u001b[0mrec_layer_two\u001b[0m\u001b[0;34m,\u001b[0m\u001b[0mstatic_layer_one\u001b[0m\u001b[0;34m]\u001b[0m\u001b[0;34m)\u001b[0m\u001b[0;34m)\u001b[0m\u001b[0;34m\u001b[0m\u001b[0;34m\u001b[0m\u001b[0m\n\u001b[0m\u001b[1;32m     38\u001b[0m \u001b[0;34m\u001b[0m\u001b[0m\n\u001b[1;32m     39\u001b[0m     \u001b[0mmodel\u001b[0m\u001b[0;34m.\u001b[0m\u001b[0madd\u001b[0m\u001b[0;34m(\u001b[0m\u001b[0mDense\u001b[0m\u001b[0;34m(\u001b[0m\u001b[0;36m64\u001b[0m\u001b[0;34m,\u001b[0m \u001b[0mactivation\u001b[0m\u001b[0;34m=\u001b[0m\u001b[0;34m'relu'\u001b[0m\u001b[0;34m)\u001b[0m\u001b[0;34m)\u001b[0m\u001b[0;34m\u001b[0m\u001b[0;34m\u001b[0m\u001b[0m\n",
            "\u001b[0;32m/usr/local/lib/python3.7/dist-packages/keras/utils/traceback_utils.py\u001b[0m in \u001b[0;36merror_handler\u001b[0;34m(*args, **kwargs)\u001b[0m\n\u001b[1;32m     65\u001b[0m     \u001b[0;32mexcept\u001b[0m \u001b[0mException\u001b[0m \u001b[0;32mas\u001b[0m \u001b[0me\u001b[0m\u001b[0;34m:\u001b[0m  \u001b[0;31m# pylint: disable=broad-except\u001b[0m\u001b[0;34m\u001b[0m\u001b[0;34m\u001b[0m\u001b[0m\n\u001b[1;32m     66\u001b[0m       \u001b[0mfiltered_tb\u001b[0m \u001b[0;34m=\u001b[0m \u001b[0m_process_traceback_frames\u001b[0m\u001b[0;34m(\u001b[0m\u001b[0me\u001b[0m\u001b[0;34m.\u001b[0m\u001b[0m__traceback__\u001b[0m\u001b[0;34m)\u001b[0m\u001b[0;34m\u001b[0m\u001b[0;34m\u001b[0m\u001b[0m\n\u001b[0;32m---> 67\u001b[0;31m       \u001b[0;32mraise\u001b[0m \u001b[0me\u001b[0m\u001b[0;34m.\u001b[0m\u001b[0mwith_traceback\u001b[0m\u001b[0;34m(\u001b[0m\u001b[0mfiltered_tb\u001b[0m\u001b[0;34m)\u001b[0m \u001b[0;32mfrom\u001b[0m \u001b[0;32mNone\u001b[0m\u001b[0;34m\u001b[0m\u001b[0;34m\u001b[0m\u001b[0m\n\u001b[0m\u001b[1;32m     68\u001b[0m     \u001b[0;32mfinally\u001b[0m\u001b[0;34m:\u001b[0m\u001b[0;34m\u001b[0m\u001b[0;34m\u001b[0m\u001b[0m\n\u001b[1;32m     69\u001b[0m       \u001b[0;32mdel\u001b[0m \u001b[0mfiltered_tb\u001b[0m\u001b[0;34m\u001b[0m\u001b[0;34m\u001b[0m\u001b[0m\n",
            "\u001b[0;32m/usr/local/lib/python3.7/dist-packages/keras/layers/merge.py\u001b[0m in \u001b[0;36mbuild\u001b[0;34m(self, input_shape)\u001b[0m\n\u001b[1;32m    498\u001b[0m   \u001b[0;32mdef\u001b[0m \u001b[0mbuild\u001b[0m\u001b[0;34m(\u001b[0m\u001b[0mself\u001b[0m\u001b[0;34m,\u001b[0m \u001b[0minput_shape\u001b[0m\u001b[0;34m)\u001b[0m\u001b[0;34m:\u001b[0m\u001b[0;34m\u001b[0m\u001b[0;34m\u001b[0m\u001b[0m\n\u001b[1;32m    499\u001b[0m     \u001b[0;31m# Used purely for shape validation.\u001b[0m\u001b[0;34m\u001b[0m\u001b[0;34m\u001b[0m\u001b[0;34m\u001b[0m\u001b[0m\n\u001b[0;32m--> 500\u001b[0;31m     \u001b[0;32mif\u001b[0m \u001b[0;32mnot\u001b[0m \u001b[0misinstance\u001b[0m\u001b[0;34m(\u001b[0m\u001b[0minput_shape\u001b[0m\u001b[0;34m[\u001b[0m\u001b[0;36m0\u001b[0m\u001b[0;34m]\u001b[0m\u001b[0;34m,\u001b[0m \u001b[0mtuple\u001b[0m\u001b[0;34m)\u001b[0m \u001b[0;32mor\u001b[0m \u001b[0mlen\u001b[0m\u001b[0;34m(\u001b[0m\u001b[0minput_shape\u001b[0m\u001b[0;34m)\u001b[0m \u001b[0;34m<\u001b[0m \u001b[0;36m1\u001b[0m\u001b[0;34m:\u001b[0m\u001b[0;34m\u001b[0m\u001b[0;34m\u001b[0m\u001b[0m\n\u001b[0m\u001b[1;32m    501\u001b[0m       raise ValueError(\n\u001b[1;32m    502\u001b[0m           \u001b[0;34m'A `Concatenate` layer should be called on a list of '\u001b[0m\u001b[0;34m\u001b[0m\u001b[0;34m\u001b[0m\u001b[0m\n",
            "\u001b[0;31mTypeError\u001b[0m: 'NoneType' object is not subscriptable"
          ]
        }
      ]
    },
    {
      "cell_type": "markdown",
      "metadata": {
        "id": "L3jUFU5viOll"
      },
      "source": [
        "### 7. Calculate performance metrics of the model"
      ]
    },
    {
      "cell_type": "code",
      "execution_count": null,
      "metadata": {
        "id": "lRi9aEAePbJD"
      },
      "outputs": [],
      "source": [
        "Y_pred = model.predict(Xtest)\n",
        "\n",
        "\n",
        "Ypred = []\n",
        "for i in Y_pred:\n",
        "    Ypred.append(np.argmax(i))\n",
        "\n",
        "print(Ypred)\n",
        "\n",
        "Y_real = pd.DataFrame(Ytest)\n",
        "Y_real = Y_real.idxmax(axis = 1)\n",
        "Y_real = Y_real.values\n",
        "\n",
        "print(Y_real)\n",
        "\n",
        "confussion = tf.math.confusion_matrix(\n",
        "    Y_real,\n",
        "    Ypred,\n",
        "    num_classes=None,\n",
        "    weights=None,\n",
        "    dtype=tf.dtypes.int32,\n",
        "    name=None\n",
        ")\n",
        "\n",
        "print(confussion)\n",
        "\n",
        "import seaborn as sns\n",
        "sns.heatmap(confussion, annot=True, cmap='Blues', fmt=\"d\")\n",
        "\n",
        "\n",
        "#precision = accuracy_score(Y_real, Y_pred)\n",
        "\n",
        "\n",
        "#print(\"La precisión del modelo fue del\", np.round(precision*100,5), \"%\")\n"
      ]
    },
    {
      "cell_type": "markdown",
      "metadata": {
        "id": "EVhbVTcIjxvL"
      },
      "source": [
        "### 8. Plot precission along epochs"
      ]
    },
    {
      "cell_type": "code",
      "execution_count": null,
      "metadata": {
        "id": "A6uyZHGgTo4B"
      },
      "outputs": [],
      "source": [
        "Ytest#plt.plot(Entrenamiento.history['accuracy'])\n",
        "#plt.plot(.history['val_accuracy'])\n",
        "plt.title('Cambio en la precisión del modelo')\n",
        "plt.ylabel('Precisión')\n",
        "plt.xlabel('Épocas')\n",
        "plt.legend(['Entrenamiento', 'Prueba'], loc='best')\n",
        "plt.savefig('Cambio en la precisión del modelo')\n",
        "plt.show()"
      ]
    },
    {
      "cell_type": "markdown",
      "metadata": {
        "id": "YXdheUPGkIxr"
      },
      "source": [
        "### 8. Generate confussión matrix"
      ]
    },
    {
      "cell_type": "code",
      "execution_count": null,
      "metadata": {
        "id": "Gu6gcrlKUHuA"
      },
      "outputs": [],
      "source": [
        "import seaborn as sns\n",
        "ConfMat = tf.math.confusion_matrix(Y_real, Y_pred).numpy()\n",
        "print(\"Matriz de confusión: \")\n",
        "fig = sns.heatmap(ConfMat, annot=True, center=True, cmap=\"Oranges\", fmt ='')\n",
        "fig.get_figure().savefig(\"Matriz de confusión\")"
      ]
    }
  ],
  "metadata": {
    "accelerator": "GPU",
    "colab": {
      "collapsed_sections": [],
      "name": " Toxicovigilance tool 4.ipynb",
      "provenance": []
    },
    "kernelspec": {
      "display_name": "Python 3",
      "language": "python",
      "name": "python3"
    },
    "language_info": {
      "codemirror_mode": {
        "name": "ipython",
        "version": 3
      },
      "file_extension": ".py",
      "mimetype": "text/x-python",
      "name": "python",
      "nbconvert_exporter": "python",
      "pygments_lexer": "ipython3",
      "version": "3.8.5"
    }
  },
  "nbformat": 4,
  "nbformat_minor": 0
}